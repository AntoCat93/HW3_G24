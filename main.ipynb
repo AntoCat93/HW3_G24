{
 "cells": [
  {
   "cell_type": "code",
   "execution_count": 9,
   "metadata": {},
   "outputs": [],
   "source": []
  },
  {
   "cell_type": "code",
   "execution_count": 3,
   "metadata": {},
   "outputs": [],
   "source": [
    "import requests\n",
    "from bs4 import BeautifulSoup\n",
    "import functions as f\n",
    "import pandas as pd\n",
    "import time\n",
    "from time import sleep\n",
    "import random\n",
    "import io \n",
    "from nltk.corpus import stopwords \n",
    "from nltk.tokenize import word_tokenize\n",
    "from nltk.tokenize import RegexpTokenizer\n",
    "from nltk.stem import PorterStemmer\n",
    "import json\n",
    "import os.path"
   ]
  },
  {
   "cell_type": "code",
   "execution_count": 5,
   "metadata": {},
   "outputs": [],
   "source": [
    "user_agent = 'Mozilla/5.0 (Macintosh; Intel Mac OS X 10_9_3) AppleWebKit/537.36 (KHTML, like Gecko) Chrome/35.0.1916.47 Safari/537.36'\n",
    "headers = {'User-Agent': user_agent}"
   ]
  },
  {
   "cell_type": "code",
   "execution_count": 10,
   "metadata": {},
   "outputs": [],
   "source": [
    "movies1 = \"data//movies1.html\"\n",
    "movies2 = \"data//movies2.html\"\n",
    "movies3 = \"data//movies3.html\"\n",
    "\n",
    "#CREATE DF\n",
    "df_movies1 = f.createDfFromHtml(movies1)\n",
    "df_movies2 = f.createDfFromHtml(movies2)\n",
    "df_movies3 = f.createDfFromHtml(movies3)"
   ]
  },
  {
   "cell_type": "code",
   "execution_count": null,
   "metadata": {},
   "outputs": [],
   "source": [
    "#DOWNLOAD HTML FILES\n",
    "f.saveMoviesHtml(df_movies1)\n",
    "f.saveMoviesHtml(df_movies2)\n",
    "f.saveMoviesHtml(df_movies3)"
   ]
  },
  {
   "cell_type": "code",
   "execution_count": 13,
   "metadata": {},
   "outputs": [],
   "source": [
    "df_movies = pd.concat([df_movies1, df_movies2, df_movies3])\n",
    "df_movies.reset_index(inplace=True)\n",
    "df_movies.drop(columns=[\"index\"], inplace=True)"
   ]
  },
  {
   "cell_type": "code",
   "execution_count": 8,
   "metadata": {},
   "outputs": [],
   "source": [
    "##### create .tsv files\n",
    "f.createTsv()"
   ]
  },
  {
   "cell_type": "code",
   "execution_count": 10,
   "metadata": {},
   "outputs": [],
   "source": [
    "f.createVocabulary(stop_words)"
   ]
  },
  {
   "cell_type": "code",
   "execution_count": 38,
   "metadata": {},
   "outputs": [],
   "source": [
    "vocabulary = f.load_vocabulary()"
   ]
  },
  {
   "cell_type": "code",
   "execution_count": 65,
   "metadata": {},
   "outputs": [],
   "source": [
    "#### create inverted index\n",
    "inverted_index = f.createInvertedIndex(vocabulary)"
   ]
  },
  {
   "cell_type": "code",
   "execution_count": 60,
   "metadata": {},
   "outputs": [],
   "source": [
    "#Load inverted index 1\n",
    "inverted_index = f.load_inverted_index_1()"
   ]
  },
  {
   "cell_type": "code",
   "execution_count": 95,
   "metadata": {},
   "outputs": [],
   "source": [
    "def search_1(query, top = 10):\n",
    "    return f.top_k(f.search_1(query, vocabulary, stop_words, inverted_index), df_movies, top, no_score=True)"
   ]
  },
  {
   "cell_type": "code",
   "execution_count": 96,
   "metadata": {},
   "outputs": [
    {
     "data": {
      "text/html": [
       "<style  type=\"text/css\" >\n",
       "</style>  \n",
       "<table id=\"T_c19ab57a_0929_11ea_b999_a45e60c5edc3\" > \n",
       "<thead>    <tr> \n",
       "        <th class=\"blank level0\" ></th> \n",
       "        <th class=\"col_heading level0 col0\" >Title</th> \n",
       "        <th class=\"col_heading level0 col1\" >Intro</th> \n",
       "        <th class=\"col_heading level0 col2\" >URL</th> \n",
       "    </tr></thead> \n",
       "<tbody>    <tr> \n",
       "        <th id=\"T_c19ab57a_0929_11ea_b999_a45e60c5edc3level0_row0\" class=\"row_heading level0 row0\" >0</th> \n",
       "        <td id=\"T_c19ab57a_0929_11ea_b999_a45e60c5edc3row0_col0\" class=\"data row0 col0\" >The Killing of a Chinese Bookie</td> \n",
       "        <td id=\"T_c19ab57a_0929_11ea_b999_a45e60c5edc3row0_col1\" class=\"data row0 col1\" >The Killing of a Chinese Bookie is a 1976 American neo-noir[2] crime film written and directed by John Cassavetes and starring Ben Gazzara.[3][4][5][6][7] A rough and gritty film, this is the second o ...</td> \n",
       "        <td id=\"T_c19ab57a_0929_11ea_b999_a45e60c5edc3row0_col2\" class=\"data row0 col2\" ><a target=_blank href='https://en.wikipedia.org/wiki/The_Killing_of_a_Chinese_Bookie'>https://en.wikipedia.org/wiki/The_Killing_of_a_Chinese_Bookie</a></td> \n",
       "    </tr>    <tr> \n",
       "        <th id=\"T_c19ab57a_0929_11ea_b999_a45e60c5edc3level0_row1\" class=\"row_heading level0 row1\" >1</th> \n",
       "        <td id=\"T_c19ab57a_0929_11ea_b999_a45e60c5edc3row1_col0\" class=\"data row1 col0\" >Wild Oranges</td> \n",
       "        <td id=\"T_c19ab57a_0929_11ea_b999_a45e60c5edc3row1_col1\" class=\"data row1 col1\" > Wild Oranges is a 1924 American silent film directed by King Vidor.[1] On January 12, 2010 the film had its first home video release, on the Warner Archive DVD series.  ...</td> \n",
       "        <td id=\"T_c19ab57a_0929_11ea_b999_a45e60c5edc3row1_col2\" class=\"data row1 col2\" ><a target=_blank href='https://en.wikipedia.org/wiki/Wild_Oranges'>https://en.wikipedia.org/wiki/Wild_Oranges</a></td> \n",
       "    </tr>    <tr> \n",
       "        <th id=\"T_c19ab57a_0929_11ea_b999_a45e60c5edc3level0_row2\" class=\"row_heading level0 row2\" >2</th> \n",
       "        <td id=\"T_c19ab57a_0929_11ea_b999_a45e60c5edc3row2_col0\" class=\"data row2 col0\" >Alice in Wonderland (1903 film)</td> \n",
       "        <td id=\"T_c19ab57a_0929_11ea_b999_a45e60c5edc3row2_col1\" class=\"data row2 col1\" > Alice in Wonderland is a 1903 British silent film directed by Cecil Hepworth and Percy Stow.[1] Only one copy of the original film is known to exist. The British Film Institute (BFI) partially restor ...</td> \n",
       "        <td id=\"T_c19ab57a_0929_11ea_b999_a45e60c5edc3row2_col2\" class=\"data row2 col2\" ><a target=_blank href='https://en.wikipedia.org/wiki/Alice_in_Wonderland_(1903_film)'>https://en.wikipedia.org/wiki/Alice_in_Wonderland_(1903_film)</a></td> \n",
       "    </tr>    <tr> \n",
       "        <th id=\"T_c19ab57a_0929_11ea_b999_a45e60c5edc3level0_row3\" class=\"row_heading level0 row3\" >3</th> \n",
       "        <td id=\"T_c19ab57a_0929_11ea_b999_a45e60c5edc3row3_col0\" class=\"data row3 col0\" >The Strange Affair of Uncle Harry</td> \n",
       "        <td id=\"T_c19ab57a_0929_11ea_b999_a45e60c5edc3row3_col1\" class=\"data row3 col1\" >The Strange Affair of Uncle Harry is a 1945 American film noir drama directed by Robert Siodmak and starring George Sanders as an aging bachelor who looks after his two sisters, one of whom tries to s ...</td> \n",
       "        <td id=\"T_c19ab57a_0929_11ea_b999_a45e60c5edc3row3_col2\" class=\"data row3 col2\" ><a target=_blank href='https://en.wikipedia.org/wiki/The_Strange_Affair_of_Uncle_Harry'>https://en.wikipedia.org/wiki/The_Strange_Affair_of_Uncle_Harry</a></td> \n",
       "    </tr>    <tr> \n",
       "        <th id=\"T_c19ab57a_0929_11ea_b999_a45e60c5edc3level0_row4\" class=\"row_heading level0 row4\" >4</th> \n",
       "        <td id=\"T_c19ab57a_0929_11ea_b999_a45e60c5edc3row4_col0\" class=\"data row4 col0\" >The Thin Man Goes Home</td> \n",
       "        <td id=\"T_c19ab57a_0929_11ea_b999_a45e60c5edc3row4_col1\" class=\"data row4 col1\" >The Thin Man Goes Home is a 1945 film directed by Richard Thorpe. It is the fifth of the six Thin Man films starring William Powell and Myrna Loy as Dashiell Hammett's dapper ex-private detective Nick ...</td> \n",
       "        <td id=\"T_c19ab57a_0929_11ea_b999_a45e60c5edc3row4_col2\" class=\"data row4 col2\" ><a target=_blank href='https://en.wikipedia.org/wiki/The_Thin_Man_Goes_Home'>https://en.wikipedia.org/wiki/The_Thin_Man_Goes_Home</a></td> \n",
       "    </tr>    <tr> \n",
       "        <th id=\"T_c19ab57a_0929_11ea_b999_a45e60c5edc3level0_row5\" class=\"row_heading level0 row5\" >5</th> \n",
       "        <td id=\"T_c19ab57a_0929_11ea_b999_a45e60c5edc3row5_col0\" class=\"data row5 col0\" >Johnny One-Eye</td> \n",
       "        <td id=\"T_c19ab57a_0929_11ea_b999_a45e60c5edc3row5_col1\" class=\"data row5 col1\" >Johnny One-Eye is a 1950 film noir crime film directed by Robert Florey starring Pat O'Brien, Wayne Morris, Dolores Moran and Gayle Reed.  ...</td> \n",
       "        <td id=\"T_c19ab57a_0929_11ea_b999_a45e60c5edc3row5_col2\" class=\"data row5 col2\" ><a target=_blank href='https://en.wikipedia.org/wiki/Johnny_One-Eye'>https://en.wikipedia.org/wiki/Johnny_One-Eye</a></td> \n",
       "    </tr>    <tr> \n",
       "        <th id=\"T_c19ab57a_0929_11ea_b999_a45e60c5edc3level0_row6\" class=\"row_heading level0 row6\" >6</th> \n",
       "        <td id=\"T_c19ab57a_0929_11ea_b999_a45e60c5edc3row6_col0\" class=\"data row6 col0\" >Go West (1925 film)</td> \n",
       "        <td id=\"T_c19ab57a_0929_11ea_b999_a45e60c5edc3row6_col1\" class=\"data row6 col1\" >Go West (1925) is a silent movie starring Buster Keaton.[1][2][3] Keaton portrays Friendless, who travels west to try to make his fortune.  Once there, he tries his hand at bronco-busting, cattle wran ...</td> \n",
       "        <td id=\"T_c19ab57a_0929_11ea_b999_a45e60c5edc3row6_col2\" class=\"data row6 col2\" ><a target=_blank href='https://en.wikipedia.org/wiki/Go_West_(1925_film)'>https://en.wikipedia.org/wiki/Go_West_(1925_film)</a></td> \n",
       "    </tr>    <tr> \n",
       "        <th id=\"T_c19ab57a_0929_11ea_b999_a45e60c5edc3level0_row7\" class=\"row_heading level0 row7\" >7</th> \n",
       "        <td id=\"T_c19ab57a_0929_11ea_b999_a45e60c5edc3row7_col0\" class=\"data row7 col0\" >The Hound of the Baskervilles (1939 film)</td> \n",
       "        <td id=\"T_c19ab57a_0929_11ea_b999_a45e60c5edc3row7_col1\" class=\"data row7 col1\" >The Hound of the Baskervilles is a 1939 mystery film based on the novel The Hound of the Baskervilles by Sir Arthur Conan Doyle. It was directed by Sidney Lanfield and released by 20th Century-Fox.[1] ...</td> \n",
       "        <td id=\"T_c19ab57a_0929_11ea_b999_a45e60c5edc3row7_col2\" class=\"data row7 col2\" ><a target=_blank href='https://en.wikipedia.org/wiki/The_Hound_of_the_Baskervilles_(1939_film)'>https://en.wikipedia.org/wiki/The_Hound_of_the_Baskervilles_(1939_film)</a></td> \n",
       "    </tr>    <tr> \n",
       "        <th id=\"T_c19ab57a_0929_11ea_b999_a45e60c5edc3level0_row8\" class=\"row_heading level0 row8\" >8</th> \n",
       "        <td id=\"T_c19ab57a_0929_11ea_b999_a45e60c5edc3row8_col0\" class=\"data row8 col0\" >Princess O'Rourke</td> \n",
       "        <td id=\"T_c19ab57a_0929_11ea_b999_a45e60c5edc3row8_col1\" class=\"data row8 col1\" >Princess O'Rourke is a 1943 American romantic comedy film[2][3]directed and written by Norman Krasna (in  Krasna's directorial debut), and starring Olivia de Havilland, Robert Cummings and Charles Cob ...</td> \n",
       "        <td id=\"T_c19ab57a_0929_11ea_b999_a45e60c5edc3row8_col2\" class=\"data row8 col2\" ><a target=_blank href='https://en.wikipedia.org/wiki/Princess_O%27Rourke'>https://en.wikipedia.org/wiki/Princess_O%27Rourke</a></td> \n",
       "    </tr>    <tr> \n",
       "        <th id=\"T_c19ab57a_0929_11ea_b999_a45e60c5edc3level0_row9\" class=\"row_heading level0 row9\" >9</th> \n",
       "        <td id=\"T_c19ab57a_0929_11ea_b999_a45e60c5edc3row9_col0\" class=\"data row9 col0\" >The Family Secret (1924 film)</td> \n",
       "        <td id=\"T_c19ab57a_0929_11ea_b999_a45e60c5edc3row9_col1\" class=\"data row9 col1\" >The Family Secret is a 1924 American silent drama film directed by William A. Seiter and featuring child star Baby Peggy. It is based on Editha's Burglar, a story by Frances Hodgson Burnett first publ ...</td> \n",
       "        <td id=\"T_c19ab57a_0929_11ea_b999_a45e60c5edc3row9_col2\" class=\"data row9 col2\" ><a target=_blank href='https://en.wikipedia.org/wiki/The_Family_Secret_(1924_film)'>https://en.wikipedia.org/wiki/The_Family_Secret_(1924_film)</a></td> \n",
       "    </tr></tbody> \n",
       "</table> "
      ],
      "text/plain": [
       "<pandas.io.formats.style.Styler at 0x1a39620b00>"
      ]
     },
     "execution_count": 96,
     "metadata": {},
     "output_type": "execute_result"
    }
   ],
   "source": [
    "search_1('dog house')"
   ]
  },
  {
   "cell_type": "markdown",
   "metadata": {},
   "source": [
    "# Inverted index 2"
   ]
  },
  {
   "cell_type": "code",
   "execution_count": 101,
   "metadata": {},
   "outputs": [
    {
     "data": {
      "text/plain": [
       "<module 'functions' from '/Users/adm-vp/anaconda3/JUPYTER_NOTES/HW3_G24/functions.py'>"
      ]
     },
     "execution_count": 101,
     "metadata": {},
     "output_type": "execute_result"
    }
   ],
   "source": [
    "### TO REMOVE\n",
    "from imp import reload \n",
    "reload(f)"
   ]
  },
  {
   "cell_type": "code",
   "execution_count": null,
   "metadata": {},
   "outputs": [],
   "source": []
  },
  {
   "cell_type": "code",
   "execution_count": 46,
   "metadata": {},
   "outputs": [],
   "source": [
    "inverted_index_2 = f.load_inverted_index_2()\n",
    "doc_norm = f.load_doc_norm()"
   ]
  },
  {
   "cell_type": "code",
   "execution_count": 87,
   "metadata": {},
   "outputs": [],
   "source": [
    "def search_2(query, top = 10):\n",
    "    return f.top_k(f.search_with_tfidf(query, vocabulary, inverted_index_2, doc_norm), df_movies, top)"
   ]
  },
  {
   "cell_type": "code",
   "execution_count": 88,
   "metadata": {
    "scrolled": true
   },
   "outputs": [
    {
     "data": {
      "text/html": [
       "<style  type=\"text/css\" >\n",
       "</style>  \n",
       "<table id=\"T_84131bfc_0929_11ea_b999_a45e60c5edc3\" > \n",
       "<thead>    <tr> \n",
       "        <th class=\"blank level0\" ></th> \n",
       "        <th class=\"col_heading level0 col0\" >Score</th> \n",
       "        <th class=\"col_heading level0 col1\" >Title</th> \n",
       "        <th class=\"col_heading level0 col2\" >Intro</th> \n",
       "        <th class=\"col_heading level0 col3\" >URL</th> \n",
       "    </tr></thead> \n",
       "<tbody>    <tr> \n",
       "        <th id=\"T_84131bfc_0929_11ea_b999_a45e60c5edc3level0_row0\" class=\"row_heading level0 row0\" >0</th> \n",
       "        <td id=\"T_84131bfc_0929_11ea_b999_a45e60c5edc3row0_col0\" class=\"data row0 col0\" >0.56</td> \n",
       "        <td id=\"T_84131bfc_0929_11ea_b999_a45e60c5edc3row0_col1\" class=\"data row0 col1\" >Ghost of the China Sea</td> \n",
       "        <td id=\"T_84131bfc_0929_11ea_b999_a45e60c5edc3row0_col2\" class=\"data row0 col2\" >Ghost of the China Sea is a 1958 American war film released by Columbia Pictures co-written by Charles B. Griffith set during World War II.  It was the last movie directed by Fred F. Sears who died of ...</td> \n",
       "        <td id=\"T_84131bfc_0929_11ea_b999_a45e60c5edc3row0_col3\" class=\"data row0 col3\" ><a target=_blank href='https://en.wikipedia.org/wiki/Ghost_of_the_China_Sea'>https://en.wikipedia.org/wiki/Ghost_of_the_China_Sea</a></td> \n",
       "    </tr>    <tr> \n",
       "        <th id=\"T_84131bfc_0929_11ea_b999_a45e60c5edc3level0_row1\" class=\"row_heading level0 row1\" >1</th> \n",
       "        <td id=\"T_84131bfc_0929_11ea_b999_a45e60c5edc3row1_col0\" class=\"data row1 col0\" >0.37</td> \n",
       "        <td id=\"T_84131bfc_0929_11ea_b999_a45e60c5edc3row1_col1\" class=\"data row1 col1\" >Battle Zone (film)</td> \n",
       "        <td id=\"T_84131bfc_0929_11ea_b999_a45e60c5edc3row1_col2\" class=\"data row1 col2\" >Battle Zone is a 1952 Korean War war film.[1] Sequences of the film were shot at Camp Pendleton, California.[2]  ...</td> \n",
       "        <td id=\"T_84131bfc_0929_11ea_b999_a45e60c5edc3row1_col3\" class=\"data row1 col3\" ><a target=_blank href='https://en.wikipedia.org/wiki/Battle_Zone_(film)'>https://en.wikipedia.org/wiki/Battle_Zone_(film)</a></td> \n",
       "    </tr>    <tr> \n",
       "        <th id=\"T_84131bfc_0929_11ea_b999_a45e60c5edc3level0_row2\" class=\"row_heading level0 row2\" >2</th> \n",
       "        <td id=\"T_84131bfc_0929_11ea_b999_a45e60c5edc3row2_col0\" class=\"data row2 col0\" >0.33</td> \n",
       "        <td id=\"T_84131bfc_0929_11ea_b999_a45e60c5edc3row2_col1\" class=\"data row2 col1\" >When Hell Broke Loose</td> \n",
       "        <td id=\"T_84131bfc_0929_11ea_b999_a45e60c5edc3row2_col2\" class=\"data row2 col2\" >When Hell Broke Loose is a 1958 World War II war film directed by Kenneth G. Crane and starring Charles Bronson. It was co-written by Ib Melchior.  ...</td> \n",
       "        <td id=\"T_84131bfc_0929_11ea_b999_a45e60c5edc3row2_col3\" class=\"data row2 col3\" ><a target=_blank href='https://en.wikipedia.org/wiki/When_Hell_Broke_Loose'>https://en.wikipedia.org/wiki/When_Hell_Broke_Loose</a></td> \n",
       "    </tr>    <tr> \n",
       "        <th id=\"T_84131bfc_0929_11ea_b999_a45e60c5edc3level0_row3\" class=\"row_heading level0 row3\" >3</th> \n",
       "        <td id=\"T_84131bfc_0929_11ea_b999_a45e60c5edc3row3_col0\" class=\"data row3 col0\" >0.33</td> \n",
       "        <td id=\"T_84131bfc_0929_11ea_b999_a45e60c5edc3row3_col1\" class=\"data row3 col1\" >The Sailor Takes a Wife</td> \n",
       "        <td id=\"T_84131bfc_0929_11ea_b999_a45e60c5edc3row3_col2\" class=\"data row3 col2\" >The Sailor Takes a Wife is a 1945 American romantic comedy film directed by Richard Whorf and starring Robert Walker and June Allyson.  ...</td> \n",
       "        <td id=\"T_84131bfc_0929_11ea_b999_a45e60c5edc3row3_col3\" class=\"data row3 col3\" ><a target=_blank href='https://en.wikipedia.org/wiki/The_Sailor_Takes_a_Wife'>https://en.wikipedia.org/wiki/The_Sailor_Takes_a_Wife</a></td> \n",
       "    </tr>    <tr> \n",
       "        <th id=\"T_84131bfc_0929_11ea_b999_a45e60c5edc3level0_row4\" class=\"row_heading level0 row4\" >4</th> \n",
       "        <td id=\"T_84131bfc_0929_11ea_b999_a45e60c5edc3row4_col0\" class=\"data row4 col0\" >0.32</td> \n",
       "        <td id=\"T_84131bfc_0929_11ea_b999_a45e60c5edc3row4_col1\" class=\"data row4 col1\" >Captain Carey, U.S.A.</td> \n",
       "        <td id=\"T_84131bfc_0929_11ea_b999_a45e60c5edc3row4_col2\" class=\"data row4 col2\" >Captain Carey, U.S.A. is a 1950 crime film directed by Mitchell Leisen and starring Alan Ladd, Wanda Hendrix. An American returns to post–World War II Italy to bring a traitor to justice. The film was ...</td> \n",
       "        <td id=\"T_84131bfc_0929_11ea_b999_a45e60c5edc3row4_col3\" class=\"data row4 col3\" ><a target=_blank href='https://en.wikipedia.org/wiki/Captain_Carey,_U.S.A.'>https://en.wikipedia.org/wiki/Captain_Carey,_U.S.A.</a></td> \n",
       "    </tr>    <tr> \n",
       "        <th id=\"T_84131bfc_0929_11ea_b999_a45e60c5edc3level0_row5\" class=\"row_heading level0 row5\" >5</th> \n",
       "        <td id=\"T_84131bfc_0929_11ea_b999_a45e60c5edc3row5_col0\" class=\"data row5 col0\" >0.31</td> \n",
       "        <td id=\"T_84131bfc_0929_11ea_b999_a45e60c5edc3row5_col1\" class=\"data row5 col1\" >Prelude to War</td> \n",
       "        <td id=\"T_84131bfc_0929_11ea_b999_a45e60c5edc3row5_col2\" class=\"data row5 col2\" >Prelude to War is the first film of Frank Capra's Why We Fight film series, commissioned by the Office of War Information (OWI) and George C. Marshall. It was made to educate American troops of the ne ...</td> \n",
       "        <td id=\"T_84131bfc_0929_11ea_b999_a45e60c5edc3row5_col3\" class=\"data row5 col3\" ><a target=_blank href='https://en.wikipedia.org/wiki/Prelude_to_War'>https://en.wikipedia.org/wiki/Prelude_to_War</a></td> \n",
       "    </tr>    <tr> \n",
       "        <th id=\"T_84131bfc_0929_11ea_b999_a45e60c5edc3level0_row6\" class=\"row_heading level0 row6\" >6</th> \n",
       "        <td id=\"T_84131bfc_0929_11ea_b999_a45e60c5edc3row6_col0\" class=\"data row6 col0\" >0.29</td> \n",
       "        <td id=\"T_84131bfc_0929_11ea_b999_a45e60c5edc3row6_col1\" class=\"data row6 col1\" >Destroyer (1943 film)</td> \n",
       "        <td id=\"T_84131bfc_0929_11ea_b999_a45e60c5edc3row6_col2\" class=\"data row6 col2\" >Destroyer is a 1943 American war film directed by William A. Seiter and starring Edward G. Robinson.  ...</td> \n",
       "        <td id=\"T_84131bfc_0929_11ea_b999_a45e60c5edc3row6_col3\" class=\"data row6 col3\" ><a target=_blank href='https://en.wikipedia.org/wiki/Destroyer_(1943_film)'>https://en.wikipedia.org/wiki/Destroyer_(1943_film)</a></td> \n",
       "    </tr>    <tr> \n",
       "        <th id=\"T_84131bfc_0929_11ea_b999_a45e60c5edc3level0_row7\" class=\"row_heading level0 row7\" >7</th> \n",
       "        <td id=\"T_84131bfc_0929_11ea_b999_a45e60c5edc3row7_col0\" class=\"data row7 col0\" >0.28</td> \n",
       "        <td id=\"T_84131bfc_0929_11ea_b999_a45e60c5edc3row7_col1\" class=\"data row7 col1\" >The Mountain Road</td> \n",
       "        <td id=\"T_84131bfc_0929_11ea_b999_a45e60c5edc3row7_col2\" class=\"data row7 col2\" > The Mountain Road is a 1960 war film starring James Stewart and directed by Daniel Mann. Set in China and based on the 1958 novel of the same name by journalist-historian Theodore H. White, the film  ...</td> \n",
       "        <td id=\"T_84131bfc_0929_11ea_b999_a45e60c5edc3row7_col3\" class=\"data row7 col3\" ><a target=_blank href='https://en.wikipedia.org/wiki/The_Mountain_Road'>https://en.wikipedia.org/wiki/The_Mountain_Road</a></td> \n",
       "    </tr>    <tr> \n",
       "        <th id=\"T_84131bfc_0929_11ea_b999_a45e60c5edc3level0_row8\" class=\"row_heading level0 row8\" >8</th> \n",
       "        <td id=\"T_84131bfc_0929_11ea_b999_a45e60c5edc3row8_col0\" class=\"data row8 col0\" >0.27</td> \n",
       "        <td id=\"T_84131bfc_0929_11ea_b999_a45e60c5edc3row8_col1\" class=\"data row8 col1\" >The Yanks Are Coming (1942 film)</td> \n",
       "        <td id=\"T_84131bfc_0929_11ea_b999_a45e60c5edc3row8_col2\" class=\"data row8 col2\" >The Yanks Are Coming is a 1942 American patriotic musical film from Poverty Row studio Producers Releasing Corporation directed by Alexis Thurn-Taxis.[1]  ...</td> \n",
       "        <td id=\"T_84131bfc_0929_11ea_b999_a45e60c5edc3row8_col3\" class=\"data row8 col3\" ><a target=_blank href='https://en.wikipedia.org/wiki/The_Yanks_Are_Coming_(1942_film)'>https://en.wikipedia.org/wiki/The_Yanks_Are_Coming_(1942_film)</a></td> \n",
       "    </tr>    <tr> \n",
       "        <th id=\"T_84131bfc_0929_11ea_b999_a45e60c5edc3level0_row9\" class=\"row_heading level0 row9\" >9</th> \n",
       "        <td id=\"T_84131bfc_0929_11ea_b999_a45e60c5edc3row9_col0\" class=\"data row9 col0\" >0.27</td> \n",
       "        <td id=\"T_84131bfc_0929_11ea_b999_a45e60c5edc3row9_col1\" class=\"data row9 col1\" >Purple Heart Diary</td> \n",
       "        <td id=\"T_84131bfc_0929_11ea_b999_a45e60c5edc3row9_col2\" class=\"data row9 col2\" >Purple Heart Diary is a 1951 drama directed by Richard Quine, produced by Sam Katzman and released by Columbia Pictures. It stars Frances Langford and Judd Holdren.[1]  ...</td> \n",
       "        <td id=\"T_84131bfc_0929_11ea_b999_a45e60c5edc3row9_col3\" class=\"data row9 col3\" ><a target=_blank href='https://en.wikipedia.org/wiki/Purple_Heart_Diary'>https://en.wikipedia.org/wiki/Purple_Heart_Diary</a></td> \n",
       "    </tr>    <tr> \n",
       "        <th id=\"T_84131bfc_0929_11ea_b999_a45e60c5edc3level0_row10\" class=\"row_heading level0 row10\" >10</th> \n",
       "        <td id=\"T_84131bfc_0929_11ea_b999_a45e60c5edc3row10_col0\" class=\"data row10 col0\" >0.26</td> \n",
       "        <td id=\"T_84131bfc_0929_11ea_b999_a45e60c5edc3row10_col1\" class=\"data row10 col1\" >King of the Royal Mounted (serial)</td> \n",
       "        <td id=\"T_84131bfc_0929_11ea_b999_a45e60c5edc3row10_col2\" class=\"data row10 col2\" > King of the Royal Mounted (1940) is a Republic Pictures northern serial based on the King of the Royal Mounted Comic strip directed by William Witney and John English. Set and filmed during World War ...</td> \n",
       "        <td id=\"T_84131bfc_0929_11ea_b999_a45e60c5edc3row10_col3\" class=\"data row10 col3\" ><a target=_blank href='https://en.wikipedia.org/wiki/King_of_the_Royal_Mounted_(serial)'>https://en.wikipedia.org/wiki/King_of_the_Royal_Mounted_(serial)</a></td> \n",
       "    </tr>    <tr> \n",
       "        <th id=\"T_84131bfc_0929_11ea_b999_a45e60c5edc3level0_row11\" class=\"row_heading level0 row11\" >11</th> \n",
       "        <td id=\"T_84131bfc_0929_11ea_b999_a45e60c5edc3row11_col0\" class=\"data row11 col0\" >0.26</td> \n",
       "        <td id=\"T_84131bfc_0929_11ea_b999_a45e60c5edc3row11_col1\" class=\"data row11 col1\" >So Proudly We Hail!</td> \n",
       "        <td id=\"T_84131bfc_0929_11ea_b999_a45e60c5edc3row11_col2\" class=\"data row11 col2\" >So Proudly We Hail! is a 1943 American war film directed and produced by Mark Sandrich and starring Claudette Colbert, Paulette Goddard – who was nominated for an Academy Award for Best Supporting Act ...</td> \n",
       "        <td id=\"T_84131bfc_0929_11ea_b999_a45e60c5edc3row11_col3\" class=\"data row11 col3\" ><a target=_blank href='https://en.wikipedia.org/wiki/So_Proudly_We_Hail!'>https://en.wikipedia.org/wiki/So_Proudly_We_Hail!</a></td> \n",
       "    </tr>    <tr> \n",
       "        <th id=\"T_84131bfc_0929_11ea_b999_a45e60c5edc3level0_row12\" class=\"row_heading level0 row12\" >12</th> \n",
       "        <td id=\"T_84131bfc_0929_11ea_b999_a45e60c5edc3row12_col0\" class=\"data row12 col0\" >0.25</td> \n",
       "        <td id=\"T_84131bfc_0929_11ea_b999_a45e60c5edc3row12_col1\" class=\"data row12 col1\" >Crime Doctor's Warning</td> \n",
       "        <td id=\"T_84131bfc_0929_11ea_b999_a45e60c5edc3row12_col2\" class=\"data row12 col2\" >Crime Doctor's Warning is a 1945 American mystery film directed by William Castle, and fourth in the Crime Doctor series of ten films produced between 1943 and 1949.    ...</td> \n",
       "        <td id=\"T_84131bfc_0929_11ea_b999_a45e60c5edc3row12_col3\" class=\"data row12 col3\" ><a target=_blank href='https://en.wikipedia.org/wiki/Crime_Doctor%27s_Warning'>https://en.wikipedia.org/wiki/Crime_Doctor%27s_Warning</a></td> \n",
       "    </tr>    <tr> \n",
       "        <th id=\"T_84131bfc_0929_11ea_b999_a45e60c5edc3level0_row13\" class=\"row_heading level0 row13\" >13</th> \n",
       "        <td id=\"T_84131bfc_0929_11ea_b999_a45e60c5edc3row13_col0\" class=\"data row13 col0\" >0.24</td> \n",
       "        <td id=\"T_84131bfc_0929_11ea_b999_a45e60c5edc3row13_col1\" class=\"data row13 col1\" >Thunderbirds (1952 film)</td> \n",
       "        <td id=\"T_84131bfc_0929_11ea_b999_a45e60c5edc3row13_col2\" class=\"data row13 col2\" >Thunderbirds is a 1952 war film directed by John H. Auer and starring John Derek, John Drew Barrymore, Mona Freeman, Gene Evans, Eileen Christy and Ward Bond.[2] It features the exploits of the 45th I ...</td> \n",
       "        <td id=\"T_84131bfc_0929_11ea_b999_a45e60c5edc3row13_col3\" class=\"data row13 col3\" ><a target=_blank href='https://en.wikipedia.org/wiki/Thunderbirds_(1952_film)'>https://en.wikipedia.org/wiki/Thunderbirds_(1952_film)</a></td> \n",
       "    </tr>    <tr> \n",
       "        <th id=\"T_84131bfc_0929_11ea_b999_a45e60c5edc3level0_row14\" class=\"row_heading level0 row14\" >14</th> \n",
       "        <td id=\"T_84131bfc_0929_11ea_b999_a45e60c5edc3row14_col0\" class=\"data row14 col0\" >0.24</td> \n",
       "        <td id=\"T_84131bfc_0929_11ea_b999_a45e60c5edc3row14_col1\" class=\"data row14 col1\" >Secret Command</td> \n",
       "        <td id=\"T_84131bfc_0929_11ea_b999_a45e60c5edc3row14_col2\" class=\"data row14 col2\" >Secret Command is a 1944 American drama war film directed by A. Edward Sutherland and starring Pat O'Brien and Carole Landis.[2] It was nominated for the Oscar for Best Effects (David Allen, Ray Cory, ...</td> \n",
       "        <td id=\"T_84131bfc_0929_11ea_b999_a45e60c5edc3row14_col3\" class=\"data row14 col3\" ><a target=_blank href='https://en.wikipedia.org/wiki/Secret_Command'>https://en.wikipedia.org/wiki/Secret_Command</a></td> \n",
       "    </tr>    <tr> \n",
       "        <th id=\"T_84131bfc_0929_11ea_b999_a45e60c5edc3level0_row15\" class=\"row_heading level0 row15\" >15</th> \n",
       "        <td id=\"T_84131bfc_0929_11ea_b999_a45e60c5edc3row15_col0\" class=\"data row15 col0\" >0.24</td> \n",
       "        <td id=\"T_84131bfc_0929_11ea_b999_a45e60c5edc3row15_col1\" class=\"data row15 col1\" >Paratroop Command</td> \n",
       "        <td id=\"T_84131bfc_0929_11ea_b999_a45e60c5edc3row15_col2\" class=\"data row15 col2\" >Paratroop Command is a 1959 war film directed by William Witney, starring Richard Bakalyan, Ken Lynch and Jack Hogan. Quentin Tarantino, an admirer of Witney's work, considers this film to be among hi ...</td> \n",
       "        <td id=\"T_84131bfc_0929_11ea_b999_a45e60c5edc3row15_col3\" class=\"data row15 col3\" ><a target=_blank href='https://en.wikipedia.org/wiki/Paratroop_Command'>https://en.wikipedia.org/wiki/Paratroop_Command</a></td> \n",
       "    </tr>    <tr> \n",
       "        <th id=\"T_84131bfc_0929_11ea_b999_a45e60c5edc3level0_row16\" class=\"row_heading level0 row16\" >16</th> \n",
       "        <td id=\"T_84131bfc_0929_11ea_b999_a45e60c5edc3row16_col0\" class=\"data row16 col0\" >0.24</td> \n",
       "        <td id=\"T_84131bfc_0929_11ea_b999_a45e60c5edc3row16_col1\" class=\"data row16 col1\" >MacArthur (film)</td> \n",
       "        <td id=\"T_84131bfc_0929_11ea_b999_a45e60c5edc3row16_col2\" class=\"data row16 col2\" >MacArthur is a 1977 American biographical war film directed by Joseph Sargent and starring Gregory Peck in the eponymous role as American General of the Army Douglas MacArthur.  ...</td> \n",
       "        <td id=\"T_84131bfc_0929_11ea_b999_a45e60c5edc3row16_col3\" class=\"data row16 col3\" ><a target=_blank href='https://en.wikipedia.org/wiki/MacArthur_(film)'>https://en.wikipedia.org/wiki/MacArthur_(film)</a></td> \n",
       "    </tr>    <tr> \n",
       "        <th id=\"T_84131bfc_0929_11ea_b999_a45e60c5edc3level0_row17\" class=\"row_heading level0 row17\" >17</th> \n",
       "        <td id=\"T_84131bfc_0929_11ea_b999_a45e60c5edc3row17_col0\" class=\"data row17 col0\" >0.23</td> \n",
       "        <td id=\"T_84131bfc_0929_11ea_b999_a45e60c5edc3row17_col1\" class=\"data row17 col1\" >The Gorilla Man</td> \n",
       "        <td id=\"T_84131bfc_0929_11ea_b999_a45e60c5edc3row17_col2\" class=\"data row17 col2\" > The Gorilla Man is a 1943 American drama film directed by D. Ross Lederman.[1] Despite the title and marketing, it is not a horror film, but a World War II espionage thriller.   ...</td> \n",
       "        <td id=\"T_84131bfc_0929_11ea_b999_a45e60c5edc3row17_col3\" class=\"data row17 col3\" ><a target=_blank href='https://en.wikipedia.org/wiki/The_Gorilla_Man'>https://en.wikipedia.org/wiki/The_Gorilla_Man</a></td> \n",
       "    </tr>    <tr> \n",
       "        <th id=\"T_84131bfc_0929_11ea_b999_a45e60c5edc3level0_row18\" class=\"row_heading level0 row18\" >18</th> \n",
       "        <td id=\"T_84131bfc_0929_11ea_b999_a45e60c5edc3row18_col0\" class=\"data row18 col0\" >0.22</td> \n",
       "        <td id=\"T_84131bfc_0929_11ea_b999_a45e60c5edc3row18_col1\" class=\"data row18 col1\" >The Man from Cairo</td> \n",
       "        <td id=\"T_84131bfc_0929_11ea_b999_a45e60c5edc3row18_col2\" class=\"data row18 col2\" > The Man From Cairo (Italian: Dramma nella Kasbah/Avventura ad Algeri) is a 1953 British, Italian American international co-production film-noir starring George Raft, who plays a man that is mistaken  ...</td> \n",
       "        <td id=\"T_84131bfc_0929_11ea_b999_a45e60c5edc3row18_col3\" class=\"data row18 col3\" ><a target=_blank href='https://en.wikipedia.org/wiki/The_Man_from_Cairo'>https://en.wikipedia.org/wiki/The_Man_from_Cairo</a></td> \n",
       "    </tr>    <tr> \n",
       "        <th id=\"T_84131bfc_0929_11ea_b999_a45e60c5edc3level0_row19\" class=\"row_heading level0 row19\" >19</th> \n",
       "        <td id=\"T_84131bfc_0929_11ea_b999_a45e60c5edc3row19_col0\" class=\"data row19 col0\" >0.22</td> \n",
       "        <td id=\"T_84131bfc_0929_11ea_b999_a45e60c5edc3row19_col1\" class=\"data row19 col1\" >Flat Top (film)</td> \n",
       "        <td id=\"T_84131bfc_0929_11ea_b999_a45e60c5edc3row19_col2\" class=\"data row19 col2\" > Flat Top (also released as Eagles of the Fleet) is a 1952 American drama war film filmed in Cinecolor directed by Lesley Selander and starring Sterling Hayden, with early appearances from Phyllis Coa ...</td> \n",
       "        <td id=\"T_84131bfc_0929_11ea_b999_a45e60c5edc3row19_col3\" class=\"data row19 col3\" ><a target=_blank href='https://en.wikipedia.org/wiki/Flat_Top_(film)'>https://en.wikipedia.org/wiki/Flat_Top_(film)</a></td> \n",
       "    </tr></tbody> \n",
       "</table> "
      ],
      "text/plain": [
       "<pandas.io.formats.style.Styler at 0x1a27103198>"
      ]
     },
     "execution_count": 88,
     "metadata": {},
     "output_type": "execute_result"
    }
   ],
   "source": [
    "search_2('world war II', 20)"
   ]
  },
  {
   "cell_type": "code",
   "execution_count": null,
   "metadata": {},
   "outputs": [],
   "source": []
  },
  {
   "cell_type": "code",
   "execution_count": null,
   "metadata": {},
   "outputs": [],
   "source": []
  },
  {
   "cell_type": "markdown",
   "metadata": {},
   "source": [
    "## Task 3"
   ]
  },
  {
   "cell_type": "code",
   "execution_count": 100,
   "metadata": {},
   "outputs": [
    {
     "ename": "TypeError",
     "evalue": "create_inverted_index_2() got multiple values for argument 'norm_file'",
     "output_type": "error",
     "traceback": [
      "\u001b[0;31m---------------------------------------------------------------------------\u001b[0m",
      "\u001b[0;31mTypeError\u001b[0m                                 Traceback (most recent call last)",
      "\u001b[0;32m<ipython-input-100-47662444372a>\u001b[0m in \u001b[0;36m<module>\u001b[0;34m\u001b[0m\n\u001b[1;32m      1\u001b[0m \u001b[0;31m#  Create new index and norm for movie names\u001b[0m\u001b[0;34m\u001b[0m\u001b[0;34m\u001b[0m\u001b[0;34m\u001b[0m\u001b[0m\n\u001b[0;32m----> 2\u001b[0;31m \u001b[0mname_index\u001b[0m\u001b[0;34m,\u001b[0m \u001b[0mname_norm\u001b[0m \u001b[0;34m=\u001b[0m \u001b[0mf\u001b[0m\u001b[0;34m.\u001b[0m\u001b[0mcreate_inverted_index_2\u001b[0m\u001b[0;34m(\u001b[0m\u001b[0;34m[\u001b[0m\u001b[0;36m3\u001b[0m\u001b[0;34m]\u001b[0m\u001b[0;34m,\u001b[0m \u001b[0mvocabulary\u001b[0m\u001b[0;34m,\u001b[0m \u001b[0mnorm_file\u001b[0m\u001b[0;34m=\u001b[0m\u001b[0;34m'name_norm.json'\u001b[0m\u001b[0;34m,\u001b[0m \u001b[0mindex_file\u001b[0m\u001b[0;34m=\u001b[0m\u001b[0;34m'name_index.json'\u001b[0m\u001b[0;34m)\u001b[0m\u001b[0;34m\u001b[0m\u001b[0;34m\u001b[0m\u001b[0m\n\u001b[0m",
      "\u001b[0;31mTypeError\u001b[0m: create_inverted_index_2() got multiple values for argument 'norm_file'"
     ]
    }
   ],
   "source": [
    "#  Create new index and norm for movie names\n",
    "name_index, name_norm = f.create_inverted_index_2([3], vocabulary, norm_file='name_norm.json', index_file='name_index.json')"
   ]
  },
  {
   "cell_type": "code",
   "execution_count": null,
   "metadata": {},
   "outputs": [],
   "source": [
    "def search_3(query, top = 10):\n",
    "    #  as_heap = False ==> returns scores as dictionary {document_id : score}\n",
    "    #  strict_terms_filter = False ==> tells function to use not_strict_filter_documents\n",
    "    name_results = search_with_tfidf(query, name_index, name_norm, as_heap=False, strict_terms_filter=False)\n",
    "    \n",
    "    #  additional_score will be added to scores with the same document id\n",
    "    search_results = search_with_tfidf(query, inverted_index_2, doc_norm, additional_score=name_results)\n",
    "    return top_k(search_results, top)\n",
    "    \n",
    "search_3('disney dog', 10)"
   ]
  },
  {
   "cell_type": "code",
   "execution_count": null,
   "metadata": {},
   "outputs": [],
   "source": []
  },
  {
   "cell_type": "code",
   "execution_count": null,
   "metadata": {},
   "outputs": [],
   "source": []
  }
 ],
 "metadata": {
  "kernelspec": {
   "display_name": "Python 3",
   "language": "python",
   "name": "python3"
  },
  "language_info": {
   "codemirror_mode": {
    "name": "ipython",
    "version": 3
   },
   "file_extension": ".py",
   "mimetype": "text/x-python",
   "name": "python",
   "nbconvert_exporter": "python",
   "pygments_lexer": "ipython3",
   "version": "3.7.1"
  }
 },
 "nbformat": 4,
 "nbformat_minor": 2
}
