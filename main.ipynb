{
 "cells": [
  {
   "cell_type": "code",
   "execution_count": 1,
   "metadata": {},
   "outputs": [],
   "source": [
    "import requests\n",
    "from bs4 import BeautifulSoup\n",
    "from utils import *\n",
    "import pandas as pd\n",
    "import time\n",
    "from time import sleep\n",
    "import random\n",
    "import io \n",
    "from nltk.corpus import stopwords \n",
    "from nltk.tokenize import word_tokenize\n",
    "from nltk.tokenize import RegexpTokenizer\n",
    "from nltk.stem import PorterStemmer\n",
    "import json\n",
    "import os.path"
   ]
  },
  {
   "cell_type": "code",
   "execution_count": null,
   "metadata": {},
   "outputs": [],
   "source": [
    "# generate HTML files and dataframe \n",
    "from collector import *"
   ]
  },
  {
   "cell_type": "code",
   "execution_count": null,
   "metadata": {},
   "outputs": [],
   "source": [
    "# generate TSV files from HTML\n",
    "from parser import *"
   ]
  },
  {
   "cell_type": "code",
   "execution_count": 5,
   "metadata": {},
   "outputs": [],
   "source": []
  },
  {
   "cell_type": "code",
   "execution_count": 119,
   "metadata": {},
   "outputs": [
    {
     "ename": "KeyboardInterrupt",
     "evalue": "",
     "output_type": "error",
     "traceback": [
      "\u001b[0;31m---------------------------------------------------------------------------\u001b[0m",
      "\u001b[0;31mKeyboardInterrupt\u001b[0m                         Traceback (most recent call last)",
      "\u001b[0;32m<ipython-input-119-18ceb9377fad>\u001b[0m in \u001b[0;36m<module>\u001b[0;34m\u001b[0m\n\u001b[1;32m      1\u001b[0m \u001b[0;31m# generate all index files and vocabulary\u001b[0m\u001b[0;34m\u001b[0m\u001b[0;34m\u001b[0m\u001b[0;34m\u001b[0m\u001b[0m\n\u001b[0;32m----> 2\u001b[0;31m \u001b[0;32mfrom\u001b[0m \u001b[0mindex\u001b[0m \u001b[0;32mimport\u001b[0m \u001b[0;34m*\u001b[0m\u001b[0;34m\u001b[0m\u001b[0;34m\u001b[0m\u001b[0m\n\u001b[0m",
      "\u001b[0;32m~/anaconda3/JUPYTER_NOTES/HW3_G24/index.py\u001b[0m in \u001b[0;36m<module>\u001b[0;34m\u001b[0m\n\u001b[1;32m      2\u001b[0m \u001b[0;34m\u001b[0m\u001b[0m\n\u001b[1;32m      3\u001b[0m \u001b[0;34m\u001b[0m\u001b[0m\n\u001b[0;32m----> 4\u001b[0;31m \u001b[0mvocabulary\u001b[0m \u001b[0;34m=\u001b[0m \u001b[0mcreateVocabulary\u001b[0m\u001b[0;34m(\u001b[0m\u001b[0mstop_words\u001b[0m\u001b[0;34m)\u001b[0m\u001b[0;34m\u001b[0m\u001b[0;34m\u001b[0m\u001b[0m\n\u001b[0m\u001b[1;32m      5\u001b[0m \u001b[0mprint\u001b[0m\u001b[0;34m(\u001b[0m\u001b[0;34m'Vocabulary is created'\u001b[0m\u001b[0;34m)\u001b[0m\u001b[0;34m\u001b[0m\u001b[0;34m\u001b[0m\u001b[0m\n\u001b[1;32m      6\u001b[0m \u001b[0;34m\u001b[0m\u001b[0m\n",
      "\u001b[0;32m~/anaconda3/JUPYTER_NOTES/HW3_G24/index_utils.py\u001b[0m in \u001b[0;36mcreateVocabulary\u001b[0;34m(stop_words)\u001b[0m\n\u001b[1;32m     11\u001b[0m             \u001b[0mline\u001b[0m \u001b[0;34m=\u001b[0m \u001b[0mfile1\u001b[0m\u001b[0;34m.\u001b[0m\u001b[0mread\u001b[0m\u001b[0;34m(\u001b[0m\u001b[0;34m)\u001b[0m\u001b[0;34m\u001b[0m\u001b[0;34m\u001b[0m\u001b[0m\n\u001b[1;32m     12\u001b[0m             \u001b[0msorted_words\u001b[0m \u001b[0;34m=\u001b[0m \u001b[0mprocessWords\u001b[0m\u001b[0;34m(\u001b[0m\u001b[0mline\u001b[0m\u001b[0;34m,\u001b[0m \u001b[0mstop_words\u001b[0m\u001b[0;34m)\u001b[0m\u001b[0;34m\u001b[0m\u001b[0;34m\u001b[0m\u001b[0m\n\u001b[0;32m---> 13\u001b[0;31m             \u001b[0mwords_set\u001b[0m \u001b[0;34m|=\u001b[0m \u001b[0mset\u001b[0m\u001b[0;34m(\u001b[0m\u001b[0msorted_words\u001b[0m\u001b[0;34m)\u001b[0m\u001b[0;34m\u001b[0m\u001b[0;34m\u001b[0m\u001b[0m\n\u001b[0m\u001b[1;32m     14\u001b[0m     \u001b[0;32mfor\u001b[0m \u001b[0mword\u001b[0m \u001b[0;32min\u001b[0m \u001b[0mwords_set\u001b[0m\u001b[0;34m:\u001b[0m\u001b[0;34m\u001b[0m\u001b[0;34m\u001b[0m\u001b[0m\n\u001b[1;32m     15\u001b[0m         \u001b[0mvocabulary\u001b[0m\u001b[0;34m[\u001b[0m\u001b[0mword\u001b[0m\u001b[0;34m]\u001b[0m \u001b[0;34m=\u001b[0m \u001b[0mi\u001b[0m\u001b[0;34m\u001b[0m\u001b[0;34m\u001b[0m\u001b[0m\n",
      "\u001b[0;31mKeyboardInterrupt\u001b[0m: "
     ]
    }
   ],
   "source": [
    "# generate all index files and vocabulary\n",
    "from index import *"
   ]
  },
  {
   "cell_type": "code",
   "execution_count": 2,
   "metadata": {},
   "outputs": [],
   "source": [
    "from main import * "
   ]
  },
  {
   "cell_type": "code",
   "execution_count": null,
   "metadata": {},
   "outputs": [],
   "source": []
  },
  {
   "cell_type": "code",
   "execution_count": 3,
   "metadata": {},
   "outputs": [],
   "source": [
    "def search_1(query, top = 10):\n",
    "    return top_k(search_no_score(query, vocabulary, stop_words, inverted_index), df_movies, top, no_score=True)"
   ]
  },
  {
   "cell_type": "code",
   "execution_count": 4,
   "metadata": {},
   "outputs": [
    {
     "ename": "NameError",
     "evalue": "name 'df_movies' is not defined",
     "output_type": "error",
     "traceback": [
      "\u001b[0;31m---------------------------------------------------------------------------\u001b[0m",
      "\u001b[0;31mNameError\u001b[0m                                 Traceback (most recent call last)",
      "\u001b[0;32m<ipython-input-4-f506d51486ac>\u001b[0m in \u001b[0;36m<module>\u001b[0;34m\u001b[0m\n\u001b[0;32m----> 1\u001b[0;31m \u001b[0msearch_1\u001b[0m\u001b[0;34m(\u001b[0m\u001b[0;34m'world war'\u001b[0m\u001b[0;34m)\u001b[0m\u001b[0;34m\u001b[0m\u001b[0;34m\u001b[0m\u001b[0m\n\u001b[0m",
      "\u001b[0;32m<ipython-input-3-29d270a0ddd0>\u001b[0m in \u001b[0;36msearch_1\u001b[0;34m(query, top)\u001b[0m\n\u001b[1;32m      1\u001b[0m \u001b[0;32mdef\u001b[0m \u001b[0msearch_1\u001b[0m\u001b[0;34m(\u001b[0m\u001b[0mquery\u001b[0m\u001b[0;34m,\u001b[0m \u001b[0mtop\u001b[0m \u001b[0;34m=\u001b[0m \u001b[0;36m10\u001b[0m\u001b[0;34m)\u001b[0m\u001b[0;34m:\u001b[0m\u001b[0;34m\u001b[0m\u001b[0;34m\u001b[0m\u001b[0m\n\u001b[0;32m----> 2\u001b[0;31m     \u001b[0;32mreturn\u001b[0m \u001b[0mtop_k\u001b[0m\u001b[0;34m(\u001b[0m\u001b[0msearch_no_score\u001b[0m\u001b[0;34m(\u001b[0m\u001b[0mquery\u001b[0m\u001b[0;34m,\u001b[0m \u001b[0mvocabulary\u001b[0m\u001b[0;34m,\u001b[0m \u001b[0mstop_words\u001b[0m\u001b[0;34m,\u001b[0m \u001b[0minverted_index\u001b[0m\u001b[0;34m)\u001b[0m\u001b[0;34m,\u001b[0m \u001b[0mdf_movies\u001b[0m\u001b[0;34m,\u001b[0m \u001b[0mtop\u001b[0m\u001b[0;34m,\u001b[0m \u001b[0mno_score\u001b[0m\u001b[0;34m=\u001b[0m\u001b[0;32mTrue\u001b[0m\u001b[0;34m)\u001b[0m\u001b[0;34m\u001b[0m\u001b[0;34m\u001b[0m\u001b[0m\n\u001b[0m",
      "\u001b[0;31mNameError\u001b[0m: name 'df_movies' is not defined"
     ]
    }
   ],
   "source": [
    "search_1('world war')"
   ]
  },
  {
   "cell_type": "markdown",
   "metadata": {},
   "source": [
    "# Inverted index 2"
   ]
  },
  {
   "cell_type": "code",
   "execution_count": 123,
   "metadata": {},
   "outputs": [],
   "source": [
    "def search_2(query, top = 10):\n",
    "    return f.top_k(f.search_with_tfidf(query, vocabulary, inverted_index_2, doc_norm), df_movies, top)"
   ]
  },
  {
   "cell_type": "code",
   "execution_count": 124,
   "metadata": {
    "scrolled": true
   },
   "outputs": [
    {
     "data": {
      "text/html": [
       "<style  type=\"text/css\" >\n",
       "</style>  \n",
       "<table id=\"T_772b003a_097e_11ea_b999_a45e60c5edc3\" > \n",
       "<thead>    <tr> \n",
       "        <th class=\"blank level0\" ></th> \n",
       "        <th class=\"col_heading level0 col0\" >Score</th> \n",
       "        <th class=\"col_heading level0 col1\" >Title</th> \n",
       "        <th class=\"col_heading level0 col2\" >Intro</th> \n",
       "        <th class=\"col_heading level0 col3\" >URL</th> \n",
       "    </tr></thead> \n",
       "<tbody>    <tr> \n",
       "        <th id=\"T_772b003a_097e_11ea_b999_a45e60c5edc3level0_row0\" class=\"row_heading level0 row0\" >0</th> \n",
       "        <td id=\"T_772b003a_097e_11ea_b999_a45e60c5edc3row0_col0\" class=\"data row0 col0\" >0.10</td> \n",
       "        <td id=\"T_772b003a_097e_11ea_b999_a45e60c5edc3row0_col1\" class=\"data row0 col1\" >The White Buffalo</td> \n",
       "        <td id=\"T_772b003a_097e_11ea_b999_a45e60c5edc3row0_col2\" class=\"data row0 col2\" >The White Buffalo is a 1977 western film directed by J. Lee Thompson and starring Charles Bronson, Kim Novak, Jack Warden, Slim Pickens and Will Sampson.[2]  ...</td> \n",
       "        <td id=\"T_772b003a_097e_11ea_b999_a45e60c5edc3row0_col3\" class=\"data row0 col3\" ><a target=_blank href='https://en.wikipedia.org/wiki/Three_Silent_Men'>https://en.wikipedia.org/wiki/Three_Silent_Men</a></td> \n",
       "    </tr>    <tr> \n",
       "        <th id=\"T_772b003a_097e_11ea_b999_a45e60c5edc3level0_row1\" class=\"row_heading level0 row1\" >1</th> \n",
       "        <td id=\"T_772b003a_097e_11ea_b999_a45e60c5edc3row1_col0\" class=\"data row1 col0\" >0.09</td> \n",
       "        <td id=\"T_772b003a_097e_11ea_b999_a45e60c5edc3row1_col1\" class=\"data row1 col1\" >A Dangerous Woman (1929 film)</td> \n",
       "        <td id=\"T_772b003a_097e_11ea_b999_a45e60c5edc3row1_col2\" class=\"data row1 col2\" >A Dangerous Woman is a 1929 American Pre-Code film released by Paramount, based on the Margery Lawrence story, A Woman Who Needed Killing. It was directed by Gerald Grove and Rowland V. Lee from a scr ...</td> \n",
       "        <td id=\"T_772b003a_097e_11ea_b999_a45e60c5edc3row1_col3\" class=\"data row1 col3\" ><a target=_blank href='https://en.wikipedia.org/wiki/Ironweed_(film)'>https://en.wikipedia.org/wiki/Ironweed_(film)</a></td> \n",
       "    </tr>    <tr> \n",
       "        <th id=\"T_772b003a_097e_11ea_b999_a45e60c5edc3level0_row2\" class=\"row_heading level0 row2\" >2</th> \n",
       "        <td id=\"T_772b003a_097e_11ea_b999_a45e60c5edc3row2_col0\" class=\"data row2 col0\" >0.09</td> \n",
       "        <td id=\"T_772b003a_097e_11ea_b999_a45e60c5edc3row2_col1\" class=\"data row2 col1\" >Paper Bullets</td> \n",
       "        <td id=\"T_772b003a_097e_11ea_b999_a45e60c5edc3row2_col2\" class=\"data row2 col2\" >Paper Bullets is a 1941 American film directed by Phil Rosen and starring Joan Woodbury. It was the first film produced by the King Brothers, launching their career.[1] The film was re-released by Eag ...</td> \n",
       "        <td id=\"T_772b003a_097e_11ea_b999_a45e60c5edc3row2_col3\" class=\"data row2 col3\" ><a target=_blank href='https://en.wikipedia.org/wiki/William_Shakespeare%27s_Romeo_%2B_Juliet'>https://en.wikipedia.org/wiki/William_Shakespeare%27s_Romeo_%2B_Juliet</a></td> \n",
       "    </tr>    <tr> \n",
       "        <th id=\"T_772b003a_097e_11ea_b999_a45e60c5edc3level0_row3\" class=\"row_heading level0 row3\" >3</th> \n",
       "        <td id=\"T_772b003a_097e_11ea_b999_a45e60c5edc3row3_col0\" class=\"data row3 col0\" >0.09</td> \n",
       "        <td id=\"T_772b003a_097e_11ea_b999_a45e60c5edc3row3_col1\" class=\"data row3 col1\" >Fighting Caravans</td> \n",
       "        <td id=\"T_772b003a_097e_11ea_b999_a45e60c5edc3row3_col2\" class=\"data row3 col2\" >Fighting Caravans is a 1931 American pre-Code Western film directed by Otto Brower and David Burton and starring Gary Cooper, Lili Damita, and Ernest Torrence.[1] Based on the 1929 novel Fighting Cara ...</td> \n",
       "        <td id=\"T_772b003a_097e_11ea_b999_a45e60c5edc3row3_col3\" class=\"data row3 col3\" ><a target=_blank href='https://en.wikipedia.org/wiki/Prison_(1988_film)'>https://en.wikipedia.org/wiki/Prison_(1988_film)</a></td> \n",
       "    </tr>    <tr> \n",
       "        <th id=\"T_772b003a_097e_11ea_b999_a45e60c5edc3level0_row4\" class=\"row_heading level0 row4\" >4</th> \n",
       "        <td id=\"T_772b003a_097e_11ea_b999_a45e60c5edc3row4_col0\" class=\"data row4 col0\" >0.09</td> \n",
       "        <td id=\"T_772b003a_097e_11ea_b999_a45e60c5edc3row4_col1\" class=\"data row4 col1\" >The Showdown (1950 film)</td> \n",
       "        <td id=\"T_772b003a_097e_11ea_b999_a45e60c5edc3row4_col2\" class=\"data row4 col2\" >The Showdown is a 1950 American Western film directed by Dorrell McGowan and Stuart E. McGowan and starring Wild Bill Elliott, Walter Brennan and Marie Windsor.[1][2][3]  ...</td> \n",
       "        <td id=\"T_772b003a_097e_11ea_b999_a45e60c5edc3row4_col3\" class=\"data row4 col3\" ><a target=_blank href='https://en.wikipedia.org/wiki/Christopher_Strong'>https://en.wikipedia.org/wiki/Christopher_Strong</a></td> \n",
       "    </tr>    <tr> \n",
       "        <th id=\"T_772b003a_097e_11ea_b999_a45e60c5edc3level0_row5\" class=\"row_heading level0 row5\" >5</th> \n",
       "        <td id=\"T_772b003a_097e_11ea_b999_a45e60c5edc3row5_col0\" class=\"data row5 col0\" >0.08</td> \n",
       "        <td id=\"T_772b003a_097e_11ea_b999_a45e60c5edc3row5_col1\" class=\"data row5 col1\" >Joe (1970 film)</td> \n",
       "        <td id=\"T_772b003a_097e_11ea_b999_a45e60c5edc3row5_col2\" class=\"data row5 col2\" >Joe is a 1970 American drama film distributed by Cannon Films[3] and starring Peter Boyle, Dennis Patrick and Susan Sarandon in her film debut. The film was directed by John G. Avildsen.[4][5]  ...</td> \n",
       "        <td id=\"T_772b003a_097e_11ea_b999_a45e60c5edc3row5_col3\" class=\"data row5 col3\" ><a target=_blank href='https://en.wikipedia.org/wiki/Kokoda_(film)'>https://en.wikipedia.org/wiki/Kokoda_(film)</a></td> \n",
       "    </tr>    <tr> \n",
       "        <th id=\"T_772b003a_097e_11ea_b999_a45e60c5edc3level0_row6\" class=\"row_heading level0 row6\" >6</th> \n",
       "        <td id=\"T_772b003a_097e_11ea_b999_a45e60c5edc3row6_col0\" class=\"data row6 col0\" >0.08</td> \n",
       "        <td id=\"T_772b003a_097e_11ea_b999_a45e60c5edc3row6_col1\" class=\"data row6 col1\" >Club Havana</td> \n",
       "        <td id=\"T_772b003a_097e_11ea_b999_a45e60c5edc3row6_col2\" class=\"data row6 col2\" >Club Havana is a 1945 American film drama directed by Edgar G. Ulmer. It was produced and released by independent film company Producers Releasing Corporation.  It has been compared to the 1933 film G ...</td> \n",
       "        <td id=\"T_772b003a_097e_11ea_b999_a45e60c5edc3row6_col3\" class=\"data row6 col3\" ><a target=_blank href='https://en.wikipedia.org/wiki/Dracula_2000'>https://en.wikipedia.org/wiki/Dracula_2000</a></td> \n",
       "    </tr>    <tr> \n",
       "        <th id=\"T_772b003a_097e_11ea_b999_a45e60c5edc3level0_row7\" class=\"row_heading level0 row7\" >7</th> \n",
       "        <td id=\"T_772b003a_097e_11ea_b999_a45e60c5edc3row7_col0\" class=\"data row7 col0\" >0.08</td> \n",
       "        <td id=\"T_772b003a_097e_11ea_b999_a45e60c5edc3row7_col1\" class=\"data row7 col1\" >I Killed That Man</td> \n",
       "        <td id=\"T_772b003a_097e_11ea_b999_a45e60c5edc3row7_col2\" class=\"data row7 col2\" >I Killed That Man is a 1941 American film directed by Phil Rosen that was a remake of his 1933 film The Devil's Mate. It starred Ricardo Cortez and was produced by the King Brothers.  ...</td> \n",
       "        <td id=\"T_772b003a_097e_11ea_b999_a45e60c5edc3row7_col3\" class=\"data row7 col3\" ><a target=_blank href='https://en.wikipedia.org/wiki/Santa_with_Muscles'>https://en.wikipedia.org/wiki/Santa_with_Muscles</a></td> \n",
       "    </tr>    <tr> \n",
       "        <th id=\"T_772b003a_097e_11ea_b999_a45e60c5edc3level0_row8\" class=\"row_heading level0 row8\" >8</th> \n",
       "        <td id=\"T_772b003a_097e_11ea_b999_a45e60c5edc3row8_col0\" class=\"data row8 col0\" >0.08</td> \n",
       "        <td id=\"T_772b003a_097e_11ea_b999_a45e60c5edc3row8_col1\" class=\"data row8 col1\" >Chicago Calling</td> \n",
       "        <td id=\"T_772b003a_097e_11ea_b999_a45e60c5edc3row8_col2\" class=\"data row8 col2\" >Chicago Calling is a 1951 film noir directed by John Reinhardt and starring Dan Duryea and Mary Anderson.  It centers on a man trying to find enough money to keep his phone connected, so he will be ab ...</td> \n",
       "        <td id=\"T_772b003a_097e_11ea_b999_a45e60c5edc3row8_col3\" class=\"data row8 col3\" ><a target=_blank href='https://en.wikipedia.org/wiki/Brand_Upon_the_Brain!'>https://en.wikipedia.org/wiki/Brand_Upon_the_Brain!</a></td> \n",
       "    </tr>    <tr> \n",
       "        <th id=\"T_772b003a_097e_11ea_b999_a45e60c5edc3level0_row9\" class=\"row_heading level0 row9\" >9</th> \n",
       "        <td id=\"T_772b003a_097e_11ea_b999_a45e60c5edc3row9_col0\" class=\"data row9 col0\" >0.08</td> \n",
       "        <td id=\"T_772b003a_097e_11ea_b999_a45e60c5edc3row9_col1\" class=\"data row9 col1\" >A Very Honorable Guy</td> \n",
       "        <td id=\"T_772b003a_097e_11ea_b999_a45e60c5edc3row9_col2\" class=\"data row9 col2\" >A Very Honorable Guy is a 1934 American pre-Code comedy film directed by Lloyd Bacon, written by Earl Baldwin, and starring Joe E. Brown, Alice White, Robert Barrat, Alan Dinehart, Irene Franklin and  ...</td> \n",
       "        <td id=\"T_772b003a_097e_11ea_b999_a45e60c5edc3row9_col3\" class=\"data row9 col3\" ><a target=_blank href='https://en.wikipedia.org/wiki/Mississippi_Masala'>https://en.wikipedia.org/wiki/Mississippi_Masala</a></td> \n",
       "    </tr>    <tr> \n",
       "        <th id=\"T_772b003a_097e_11ea_b999_a45e60c5edc3level0_row10\" class=\"row_heading level0 row10\" >10</th> \n",
       "        <td id=\"T_772b003a_097e_11ea_b999_a45e60c5edc3row10_col0\" class=\"data row10 col0\" >0.08</td> \n",
       "        <td id=\"T_772b003a_097e_11ea_b999_a45e60c5edc3row10_col1\" class=\"data row10 col1\" >The Leopard Man</td> \n",
       "        <td id=\"T_772b003a_097e_11ea_b999_a45e60c5edc3row10_col2\" class=\"data row10 col2\" >The Leopard Man is a 1943 horror film directed by Jacques Tourneur based on the book Black Alibi by Cornell Woolrich. It is one of the first American films to attempt an even remotely realistic portra ...</td> \n",
       "        <td id=\"T_772b003a_097e_11ea_b999_a45e60c5edc3row10_col3\" class=\"data row10 col3\" ><a target=_blank href='https://en.wikipedia.org/wiki/Music_from_Another_Room_(film)'>https://en.wikipedia.org/wiki/Music_from_Another_Room_(film)</a></td> \n",
       "    </tr>    <tr> \n",
       "        <th id=\"T_772b003a_097e_11ea_b999_a45e60c5edc3level0_row11\" class=\"row_heading level0 row11\" >11</th> \n",
       "        <td id=\"T_772b003a_097e_11ea_b999_a45e60c5edc3row11_col0\" class=\"data row11 col0\" >0.08</td> \n",
       "        <td id=\"T_772b003a_097e_11ea_b999_a45e60c5edc3row11_col1\" class=\"data row11 col1\" >I Wonder Who's Killing Her Now?</td> \n",
       "        <td id=\"T_772b003a_097e_11ea_b999_a45e60c5edc3row11_col2\" class=\"data row11 col2\" >I Wonder Who's Killing Her Now? (original USA theatrical name Kill My Wife, Please) is a 1975 black comedy movie directed by Steven Hilliard Stern, and starring Bob Dishy and Joanna Barnes. Originally ...</td> \n",
       "        <td id=\"T_772b003a_097e_11ea_b999_a45e60c5edc3row11_col3\" class=\"data row11 col3\" ><a target=_blank href='https://en.wikipedia.org/wiki/Brewster%27s_Millions_(1935_film)'>https://en.wikipedia.org/wiki/Brewster%27s_Millions_(1935_film)</a></td> \n",
       "    </tr>    <tr> \n",
       "        <th id=\"T_772b003a_097e_11ea_b999_a45e60c5edc3level0_row12\" class=\"row_heading level0 row12\" >12</th> \n",
       "        <td id=\"T_772b003a_097e_11ea_b999_a45e60c5edc3row12_col0\" class=\"data row12 col0\" >0.08</td> \n",
       "        <td id=\"T_772b003a_097e_11ea_b999_a45e60c5edc3row12_col1\" class=\"data row12 col1\" >Kill the Umpire</td> \n",
       "        <td id=\"T_772b003a_097e_11ea_b999_a45e60c5edc3row12_col2\" class=\"data row12 col2\" >Kill the Umpire is a 1950 baseball comedy film starring William Bendix and Una Merkel, directed by Lloyd Bacon and written by Frank Tashlin. Bendix two years earlier had portrayed baseball player Babe ...</td> \n",
       "        <td id=\"T_772b003a_097e_11ea_b999_a45e60c5edc3row12_col3\" class=\"data row12 col3\" ><a target=_blank href='https://en.wikipedia.org/wiki/The_Jacket'>https://en.wikipedia.org/wiki/The_Jacket</a></td> \n",
       "    </tr>    <tr> \n",
       "        <th id=\"T_772b003a_097e_11ea_b999_a45e60c5edc3level0_row13\" class=\"row_heading level0 row13\" >13</th> \n",
       "        <td id=\"T_772b003a_097e_11ea_b999_a45e60c5edc3row13_col0\" class=\"data row13 col0\" >0.08</td> \n",
       "        <td id=\"T_772b003a_097e_11ea_b999_a45e60c5edc3row13_col1\" class=\"data row13 col1\" >Rio (1939 film)</td> \n",
       "        <td id=\"T_772b003a_097e_11ea_b999_a45e60c5edc3row13_col2\" class=\"data row13 col2\" >Rio is a 1939 American crime film directed by John Brahm starring Basil Rathbone and Victor McLaglen.[3]  ...</td> \n",
       "        <td id=\"T_772b003a_097e_11ea_b999_a45e60c5edc3row13_col3\" class=\"data row13 col3\" ><a target=_blank href='https://en.wikipedia.org/wiki/Gold_Diggers:_The_Secret_of_Bear_Mountain'>https://en.wikipedia.org/wiki/Gold_Diggers:_The_Secret_of_Bear_Mountain</a></td> \n",
       "    </tr>    <tr> \n",
       "        <th id=\"T_772b003a_097e_11ea_b999_a45e60c5edc3level0_row14\" class=\"row_heading level0 row14\" >14</th> \n",
       "        <td id=\"T_772b003a_097e_11ea_b999_a45e60c5edc3row14_col0\" class=\"data row14 col0\" >0.08</td> \n",
       "        <td id=\"T_772b003a_097e_11ea_b999_a45e60c5edc3row14_col1\" class=\"data row14 col1\" >King of the Underworld (1939 film)</td> \n",
       "        <td id=\"T_772b003a_097e_11ea_b999_a45e60c5edc3row14_col2\" class=\"data row14 col2\" >King of the Underworld is a 1939 crime drama film starring Humphrey Bogart as a gangster and Kay Francis as a doctor forced to treat him. It was directed by Lewis Seiler. It is a remake of the 1935 fi ...</td> \n",
       "        <td id=\"T_772b003a_097e_11ea_b999_a45e60c5edc3row14_col3\" class=\"data row14 col3\" ><a target=_blank href='https://en.wikipedia.org/wiki/Catherine_the_Great_(1995_film)'>https://en.wikipedia.org/wiki/Catherine_the_Great_(1995_film)</a></td> \n",
       "    </tr>    <tr> \n",
       "        <th id=\"T_772b003a_097e_11ea_b999_a45e60c5edc3level0_row15\" class=\"row_heading level0 row15\" >15</th> \n",
       "        <td id=\"T_772b003a_097e_11ea_b999_a45e60c5edc3row15_col0\" class=\"data row15 col0\" >0.08</td> \n",
       "        <td id=\"T_772b003a_097e_11ea_b999_a45e60c5edc3row15_col1\" class=\"data row15 col1\" >The Accused (1949 film)</td> \n",
       "        <td id=\"T_772b003a_097e_11ea_b999_a45e60c5edc3row15_col2\" class=\"data row15 col2\" >The Accused is a 1949 American film noir drama film directed by William Dieterle and written by Ketti Frings, based on Be Still, My Love, a 1947 novel written by June Truesdell.[1]  The film stars Lor ...</td> \n",
       "        <td id=\"T_772b003a_097e_11ea_b999_a45e60c5edc3row15_col3\" class=\"data row15 col3\" ><a target=_blank href='https://en.wikipedia.org/wiki/Alien_vs._Predator_(film)'>https://en.wikipedia.org/wiki/Alien_vs._Predator_(film)</a></td> \n",
       "    </tr>    <tr> \n",
       "        <th id=\"T_772b003a_097e_11ea_b999_a45e60c5edc3level0_row16\" class=\"row_heading level0 row16\" >16</th> \n",
       "        <td id=\"T_772b003a_097e_11ea_b999_a45e60c5edc3row16_col0\" class=\"data row16 col0\" >0.08</td> \n",
       "        <td id=\"T_772b003a_097e_11ea_b999_a45e60c5edc3row16_col1\" class=\"data row16 col1\" >Kiss the Blood Off My Hands</td> \n",
       "        <td id=\"T_772b003a_097e_11ea_b999_a45e60c5edc3row16_col2\" class=\"data row16 col2\" >Kiss the Blood Off My Hands is a 1948 American film noir crime film directed by Norman Foster starring Burt Lancaster, Joan Fontaine and Robert Newton based on a novel of the same name by Gerald Bulte ...</td> \n",
       "        <td id=\"T_772b003a_097e_11ea_b999_a45e60c5edc3row16_col3\" class=\"data row16 col3\" ><a target=_blank href='https://en.wikipedia.org/wiki/The_Human_Stain_(film)'>https://en.wikipedia.org/wiki/The_Human_Stain_(film)</a></td> \n",
       "    </tr>    <tr> \n",
       "        <th id=\"T_772b003a_097e_11ea_b999_a45e60c5edc3level0_row17\" class=\"row_heading level0 row17\" >17</th> \n",
       "        <td id=\"T_772b003a_097e_11ea_b999_a45e60c5edc3row17_col0\" class=\"data row17 col0\" >0.08</td> \n",
       "        <td id=\"T_772b003a_097e_11ea_b999_a45e60c5edc3row17_col1\" class=\"data row17 col1\" >A Force of One</td> \n",
       "        <td id=\"T_772b003a_097e_11ea_b999_a45e60c5edc3row17_col2\" class=\"data row17 col2\" >A Force of One is a 1979 action martial arts film starring Chuck Norris, Jennifer O'Neill, Ron O'Neal, Clu Gulager and Bill Wallace. The film was directed by Paul Aaron and written by Pat E. Johnson a ...</td> \n",
       "        <td id=\"T_772b003a_097e_11ea_b999_a45e60c5edc3row17_col3\" class=\"data row17 col3\" ><a target=_blank href='https://en.wikipedia.org/wiki/Kiss_the_Bride_Goodbye'>https://en.wikipedia.org/wiki/Kiss_the_Bride_Goodbye</a></td> \n",
       "    </tr>    <tr> \n",
       "        <th id=\"T_772b003a_097e_11ea_b999_a45e60c5edc3level0_row18\" class=\"row_heading level0 row18\" >18</th> \n",
       "        <td id=\"T_772b003a_097e_11ea_b999_a45e60c5edc3row18_col0\" class=\"data row18 col0\" >0.08</td> \n",
       "        <td id=\"T_772b003a_097e_11ea_b999_a45e60c5edc3row18_col1\" class=\"data row18 col1\" >Death Hunt</td> \n",
       "        <td id=\"T_772b003a_097e_11ea_b999_a45e60c5edc3row18_col2\" class=\"data row18 col2\" >Death Hunt is a 1981 action film directed by Peter R. Hunt. The film stars Charles Bronson, Lee Marvin, Angie Dickinson, Carl Weathers, Maury Chaykin, Ed Lauter and Andrew Stevens. Death Hunt was a fi ...</td> \n",
       "        <td id=\"T_772b003a_097e_11ea_b999_a45e60c5edc3row18_col3\" class=\"data row18 col3\" ><a target=_blank href='https://en.wikipedia.org/wiki/Cairo_Road_(film)'>https://en.wikipedia.org/wiki/Cairo_Road_(film)</a></td> \n",
       "    </tr>    <tr> \n",
       "        <th id=\"T_772b003a_097e_11ea_b999_a45e60c5edc3level0_row19\" class=\"row_heading level0 row19\" >19</th> \n",
       "        <td id=\"T_772b003a_097e_11ea_b999_a45e60c5edc3row19_col0\" class=\"data row19 col0\" >0.08</td> \n",
       "        <td id=\"T_772b003a_097e_11ea_b999_a45e60c5edc3row19_col1\" class=\"data row19 col1\" >Tension at Table Rock</td> \n",
       "        <td id=\"T_772b003a_097e_11ea_b999_a45e60c5edc3row19_col2\" class=\"data row19 col2\" >Tension at Table Rock is a 1956 American Western drama film directed by Charles Marquis Warren and starring Richard Egan and Dorothy Malone. Wes Tancred (Richard Egan) is publicly vilified after killi ...</td> \n",
       "        <td id=\"T_772b003a_097e_11ea_b999_a45e60c5edc3row19_col3\" class=\"data row19 col3\" ><a target=_blank href='https://en.wikipedia.org/wiki/Horrible_Bosses'>https://en.wikipedia.org/wiki/Horrible_Bosses</a></td> \n",
       "    </tr></tbody> \n",
       "</table> "
      ],
      "text/plain": [
       "<pandas.io.formats.style.Styler at 0x1a427313c8>"
      ]
     },
     "execution_count": 124,
     "metadata": {},
     "output_type": "execute_result"
    }
   ],
   "source": [
    "search_2('Kill Bill', 20)"
   ]
  },
  {
   "cell_type": "markdown",
   "metadata": {},
   "source": [
    "## Task 3"
   ]
  },
  {
   "cell_type": "code",
   "execution_count": 125,
   "metadata": {},
   "outputs": [],
   "source": [
    "#  Create new index and norm for movie names\n",
    "name_index, name_norm = f.create_inverted_index_2([3], vocabulary, norm_file='name_norm.json', index_file='name_index.json')"
   ]
  },
  {
   "cell_type": "code",
   "execution_count": 169,
   "metadata": {},
   "outputs": [],
   "source": [
    "def getAdditionalScore(df_search, additional_query, df_movies):\n",
    "    df_movies.ID = df_movies.ID.astype(int)\n",
    "    res = df_movies[df_movies.ID.isin(list(df_search.keys()))]\n",
    "    additional_query_params = [x.strip() for x in additional_query.split(sep = ':')]\n",
    "    if additional_query_params[0] == \"year\":\n",
    "        res = res.assign(year = res[\"ID\"].apply(addInfoYear))\n",
    "        res = res.assign(diff_years = res[\"year\"].apply(lambda x:addDiffYears( x, additional_query_params[1])))\n",
    "        res = res.assign(points = res[\"diff_years\"].apply(lambda x: addYearsPoints(x, res[\"diff_years\"])))\n",
    "    elif additional_query_params[0] == \"language\":\n",
    "        res = res.assign(language = res[\"ID\"].apply(addInfoLanguage))\n",
    "        res = res.assign(points = res[\"language\"].apply(lambda x: addLanguagePoints(x, additional_query_params[1])))\n",
    "    elif additional_query_params[0] == \"\":\n",
    "        res = res.assign(points = 0)\n",
    "        print(\"No additional query\")\n",
    "    elif additional_query_params[0] == \"\":\n",
    "        res = res.assign(points = 0)\n",
    "        print(\"Additional query not valid!\")\n",
    "    additional_score = {}\n",
    "    for index, row in res.iterrows():\n",
    "        additional_score[row[\"ID\"]] = row[\"points\"]\n",
    "    return additional_score\n",
    "\n",
    "def addInfoYear(film_id):\n",
    "    filename = f'tsv/{film_id}.tsv'\n",
    "    film_data = pd.read_csv(filename, sep='\\t', dtype=str, engine='python')\n",
    "    release_date = film_data.iloc[0][\" release date \"]\n",
    "    if \"(\" in release_date: \n",
    "        year =  release_date.split(\"(\")[0].strip()[-4:]\n",
    "        if len(year) == 4:\n",
    "            return int(year)\n",
    "    elif len(release_date.strip()) == 4:\n",
    "        return int(release_date.strip())\n",
    "    elif \",\" in release_date:\n",
    "        year =  release_date.split(\",\")[1].strip()[-4:]\n",
    "        if len(year) == 4:\n",
    "            return int(year)\n",
    "    elif \" \" in release_date.strip():\n",
    "        info_date =  release_date.strip().split(\" \")\n",
    "        year = info_date[len(info_date) - 1].strip()\n",
    "        if len(year) == 4:\n",
    "            return int(year)\n",
    "    return \"NA\"\n",
    "    \n",
    "def addInfoLanguage(film_id):\n",
    "    filename = f'tsv/{film_id}.tsv'\n",
    "    film_data = pd.read_csv(filename, sep='\\t', dtype=str, engine='python')\n",
    "    language = film_data.iloc[0][\" language \"]\n",
    "    if language == \"NA\": \n",
    "        country = film_data.iloc[0][\" country \"]\n",
    "        if country in [\"United States\", \"England\"]:\n",
    "            return \"English\"\n",
    "    else:\n",
    "        return language\n",
    "    return \"NA\"\n",
    "         \n",
    "def addDiffYears(film_year, film_query):\n",
    "    diff = abs(film_year - int(film_query))\n",
    "    return diff\n",
    "    \n",
    "def addLanguagePoints(language_code, language_query):\n",
    "    if language_code.strip() == language_query.strip():\n",
    "        return 1\n",
    "    else:\n",
    "        return 0\n",
    "    \n",
    "def addYearsPoints(current_diff, diff_years):\n",
    "    max_diff = max(diff_years.values)\n",
    "    if max_diff == 0:\n",
    "        return 1\n",
    "    else:\n",
    "        return 1 - (current_diff / max_diff)    \n",
    "    "
   ]
  },
  {
   "cell_type": "code",
   "execution_count": 170,
   "metadata": {},
   "outputs": [],
   "source": [
    "doc_norm = f.load_doc_norm()"
   ]
  },
  {
   "cell_type": "code",
   "execution_count": 171,
   "metadata": {},
   "outputs": [],
   "source": [
    "def search_3(query, top = 10):\n",
    "    #  as_heap = False ==> returns scores as dictionary {document_id : score}\n",
    "    #  strict_terms_filter = False ==> tells function to use not_strict_filter_documents\n",
    "    name_results = f.search_with_tfidf(query, vocabulary, name_index, doc_norm, as_heap=False, strict_terms_filter=False)\n",
    "    #  additional_score will be added to scores with the same document id\n",
    "    additional_points = getAdditionalScore(name_results, input(\"Insert 'year:YYYY' or 'language: Language' to add additional info for the search \\n\"), df_movies)\n",
    "    additional_score = {key: name_results.get(key, 0) + additional_points.get(key, 0) for key in set(name_results) | set(additional_points)}\n",
    "    search_results = f.search_with_tfidf(query, vocabulary, inverted_index_2, doc_norm, additional_score=additional_points)\n",
    "    return f.top_k(search_results, df_movies, top)\n",
    "    "
   ]
  },
  {
   "cell_type": "code",
   "execution_count": 173,
   "metadata": {
    "scrolled": true
   },
   "outputs": [
    {
     "name": "stdout",
     "output_type": "stream",
     "text": [
      "Insert 'year:YYYY' or 'language: Language' to add additional info for the search \n",
      "year:2011\n"
     ]
    },
    {
     "data": {
      "text/html": [
       "<style  type=\"text/css\" >\n",
       "</style>  \n",
       "<table id=\"T_1425ac9e_0968_11ea_a910_acde48001122\" > \n",
       "<thead>    <tr> \n",
       "        <th class=\"blank level0\" ></th> \n",
       "        <th class=\"col_heading level0 col0\" >Score</th> \n",
       "        <th class=\"col_heading level0 col1\" >Title</th> \n",
       "        <th class=\"col_heading level0 col2\" >Intro</th> \n",
       "        <th class=\"col_heading level0 col3\" >URL</th> \n",
       "    </tr></thead> \n",
       "<tbody>    <tr> \n",
       "        <th id=\"T_1425ac9e_0968_11ea_a910_acde48001122level0_row0\" class=\"row_heading level0 row0\" >0</th> \n",
       "        <td id=\"T_1425ac9e_0968_11ea_a910_acde48001122row0_col0\" class=\"data row0 col0\" >0.74</td> \n",
       "        <td id=\"T_1425ac9e_0968_11ea_a910_acde48001122row0_col1\" class=\"data row0 col1\" >The Adventure of Sherlock Holmes' Smarter Brother</td> \n",
       "        <td id=\"T_1425ac9e_0968_11ea_a910_acde48001122row0_col2\" class=\"data row0 col2\" >The Adventure of Sherlock Holmes' Smarter Brother is a 1975 American musical comedy film with Gene Wilder, Marty Feldman, Madeline Kahn, Dom DeLuise, Roy Kinnear and Leo McKern.[3] The film was Wilder ...</td> \n",
       "        <td id=\"T_1425ac9e_0968_11ea_a910_acde48001122row0_col3\" class=\"data row0 col3\" ><a target=_blank href='https://en.wikipedia.org/wiki/The_Adventure_of_Sherlock_Holmes%27_Smarter_Brother'>https://en.wikipedia.org/wiki/The_Adventure_of_Sherlock_Holmes%27_Smarter_Brother</a></td> \n",
       "    </tr>    <tr> \n",
       "        <th id=\"T_1425ac9e_0968_11ea_a910_acde48001122level0_row1\" class=\"row_heading level0 row1\" >1</th> \n",
       "        <td id=\"T_1425ac9e_0968_11ea_a910_acde48001122row1_col0\" class=\"data row1 col0\" >0.48</td> \n",
       "        <td id=\"T_1425ac9e_0968_11ea_a910_acde48001122row1_col1\" class=\"data row1 col1\" >Sherlock Holmes in Washington</td> \n",
       "        <td id=\"T_1425ac9e_0968_11ea_a910_acde48001122row1_col2\" class=\"data row1 col2\" >Sherlock Holmes in Washington (1943) is the fifth film in the Basil Rathbone/Nigel Bruce series of Sherlock Holmes movies. The plot is an original story not based on any of Sir Arthur Conan Doyle's Ho ...</td> \n",
       "        <td id=\"T_1425ac9e_0968_11ea_a910_acde48001122row1_col3\" class=\"data row1 col3\" ><a target=_blank href='https://en.wikipedia.org/wiki/Sherlock_Holmes_in_Washington'>https://en.wikipedia.org/wiki/Sherlock_Holmes_in_Washington</a></td> \n",
       "    </tr>    <tr> \n",
       "        <th id=\"T_1425ac9e_0968_11ea_a910_acde48001122level0_row2\" class=\"row_heading level0 row2\" >2</th> \n",
       "        <td id=\"T_1425ac9e_0968_11ea_a910_acde48001122row2_col0\" class=\"data row2 col0\" >0.42</td> \n",
       "        <td id=\"T_1425ac9e_0968_11ea_a910_acde48001122row2_col1\" class=\"data row2 col1\" >Sherlock Holmes Faces Death</td> \n",
       "        <td id=\"T_1425ac9e_0968_11ea_a910_acde48001122row2_col2\" class=\"data row2 col2\" >Sherlock Holmes Faces Death is the sixth film in the Basil Rathbone/Nigel Bruce series of Sherlock Holmes films.[1] Made in 1943, it is a loose adaptation of Sir Arthur Conan Doyle's Holmes story \"The ...</td> \n",
       "        <td id=\"T_1425ac9e_0968_11ea_a910_acde48001122row2_col3\" class=\"data row2 col3\" ><a target=_blank href='https://en.wikipedia.org/wiki/Sherlock_Holmes_Faces_Death'>https://en.wikipedia.org/wiki/Sherlock_Holmes_Faces_Death</a></td> \n",
       "    </tr></tbody> \n",
       "</table> "
      ],
      "text/plain": [
       "<pandas.io.formats.style.Styler at 0x1a548ab208>"
      ]
     },
     "execution_count": 173,
     "metadata": {},
     "output_type": "execute_result"
    }
   ],
   "source": [
    "search_3('Sherlokc Holmes', 3)"
   ]
  },
  {
   "cell_type": "code",
   "execution_count": 112,
   "metadata": {},
   "outputs": [
    {
     "data": {
      "text/html": [
       "<style  type=\"text/css\" >\n",
       "</style>  \n",
       "<table id=\"T_d423266e_096f_11ea_b999_a45e60c5edc3\" > \n",
       "<thead>    <tr> \n",
       "        <th class=\"blank level0\" ></th> \n",
       "        <th class=\"col_heading level0 col0\" >Score</th> \n",
       "        <th class=\"col_heading level0 col1\" >Title</th> \n",
       "        <th class=\"col_heading level0 col2\" >Intro</th> \n",
       "        <th class=\"col_heading level0 col3\" >URL</th> \n",
       "    </tr></thead> \n",
       "<tbody>    <tr> \n",
       "        <th id=\"T_d423266e_096f_11ea_b999_a45e60c5edc3level0_row0\" class=\"row_heading level0 row0\" >0</th> \n",
       "        <td id=\"T_d423266e_096f_11ea_b999_a45e60c5edc3row0_col0\" class=\"data row0 col0\" >3.11</td> \n",
       "        <td id=\"T_d423266e_096f_11ea_b999_a45e60c5edc3row0_col1\" class=\"data row0 col1\" >The Adventures of Sherlock Holmes (film)</td> \n",
       "        <td id=\"T_d423266e_096f_11ea_b999_a45e60c5edc3row0_col2\" class=\"data row0 col2\" >The Adventures of Sherlock Holmes (released theatrically as Sherlock Holmes in the United Kingdom) is a 1939 mystery-adventure film released by Twentieth Century Fox.[2] It is a pastiche featuring the ...</td> \n",
       "        <td id=\"T_d423266e_096f_11ea_b999_a45e60c5edc3row0_col3\" class=\"data row0 col3\" ><a target=_blank href='https://en.wikipedia.org/wiki/The_Adventures_of_Sherlock_Holmes_(film)'>https://en.wikipedia.org/wiki/The_Adventures_of_Sherlock_Holmes_(film)</a></td> \n",
       "    </tr>    <tr> \n",
       "        <th id=\"T_d423266e_096f_11ea_b999_a45e60c5edc3level0_row1\" class=\"row_heading level0 row1\" >1</th> \n",
       "        <td id=\"T_d423266e_096f_11ea_b999_a45e60c5edc3row1_col0\" class=\"data row1 col0\" >2.88</td> \n",
       "        <td id=\"T_d423266e_096f_11ea_b999_a45e60c5edc3row1_col1\" class=\"data row1 col1\" >Sherlock Holmes (1916 film)</td> \n",
       "        <td id=\"T_d423266e_096f_11ea_b999_a45e60c5edc3row1_col2\" class=\"data row1 col2\" > Sherlock Holmes is a 1916 American silent film starring William Gillette as Arthur Conan Doyle's Sherlock Holmes. The film, which was directed by Arthur Berthelet, was produced by Essanay Studios in  ...</td> \n",
       "        <td id=\"T_d423266e_096f_11ea_b999_a45e60c5edc3row1_col3\" class=\"data row1 col3\" ><a target=_blank href='https://en.wikipedia.org/wiki/Sherlock_Holmes_(1916_film)'>https://en.wikipedia.org/wiki/Sherlock_Holmes_(1916_film)</a></td> \n",
       "    </tr>    <tr> \n",
       "        <th id=\"T_d423266e_096f_11ea_b999_a45e60c5edc3level0_row2\" class=\"row_heading level0 row2\" >2</th> \n",
       "        <td id=\"T_d423266e_096f_11ea_b999_a45e60c5edc3row2_col0\" class=\"data row2 col0\" >2.81</td> \n",
       "        <td id=\"T_d423266e_096f_11ea_b999_a45e60c5edc3row2_col1\" class=\"data row2 col1\" >Sherlock Holmes in Washington</td> \n",
       "        <td id=\"T_d423266e_096f_11ea_b999_a45e60c5edc3row2_col2\" class=\"data row2 col2\" >Sherlock Holmes in Washington (1943) is the fifth film in the Basil Rathbone/Nigel Bruce series of Sherlock Holmes movies. The plot is an original story not based on any of Sir Arthur Conan Doyle's Ho ...</td> \n",
       "        <td id=\"T_d423266e_096f_11ea_b999_a45e60c5edc3row2_col3\" class=\"data row2 col3\" ><a target=_blank href='https://en.wikipedia.org/wiki/Sherlock_Holmes_in_Washington'>https://en.wikipedia.org/wiki/Sherlock_Holmes_in_Washington</a></td> \n",
       "    </tr></tbody> \n",
       "</table> "
      ],
      "text/plain": [
       "<pandas.io.formats.style.Styler at 0x1a3b241b00>"
      ]
     },
     "execution_count": 112,
     "metadata": {},
     "output_type": "execute_result"
    }
   ],
   "source": [
    "search_3('Sherlokc Holmes', 3)"
   ]
  },
  {
   "cell_type": "code",
   "execution_count": 111,
   "metadata": {},
   "outputs": [
    {
     "data": {
      "text/html": [
       "<style  type=\"text/css\" >\n",
       "</style>  \n",
       "<table id=\"T_d0d4314c_096f_11ea_b999_a45e60c5edc3\" > \n",
       "<thead>    <tr> \n",
       "        <th class=\"blank level0\" ></th> \n",
       "        <th class=\"col_heading level0 col0\" >Score</th> \n",
       "        <th class=\"col_heading level0 col1\" >Title</th> \n",
       "        <th class=\"col_heading level0 col2\" >Intro</th> \n",
       "        <th class=\"col_heading level0 col3\" >URL</th> \n",
       "    </tr></thead> \n",
       "<tbody>    <tr> \n",
       "        <th id=\"T_d0d4314c_096f_11ea_b999_a45e60c5edc3level0_row0\" class=\"row_heading level0 row0\" >0</th> \n",
       "        <td id=\"T_d0d4314c_096f_11ea_b999_a45e60c5edc3row0_col0\" class=\"data row0 col0\" >3.11</td> \n",
       "        <td id=\"T_d0d4314c_096f_11ea_b999_a45e60c5edc3row0_col1\" class=\"data row0 col1\" >The Adventures of Sherlock Holmes (film)</td> \n",
       "        <td id=\"T_d0d4314c_096f_11ea_b999_a45e60c5edc3row0_col2\" class=\"data row0 col2\" >The Adventures of Sherlock Holmes (released theatrically as Sherlock Holmes in the United Kingdom) is a 1939 mystery-adventure film released by Twentieth Century Fox.[2] It is a pastiche featuring the ...</td> \n",
       "        <td id=\"T_d0d4314c_096f_11ea_b999_a45e60c5edc3row0_col3\" class=\"data row0 col3\" ><a target=_blank href='https://en.wikipedia.org/wiki/The_Adventures_of_Sherlock_Holmes_(film)'>https://en.wikipedia.org/wiki/The_Adventures_of_Sherlock_Holmes_(film)</a></td> \n",
       "    </tr>    <tr> \n",
       "        <th id=\"T_d0d4314c_096f_11ea_b999_a45e60c5edc3level0_row1\" class=\"row_heading level0 row1\" >1</th> \n",
       "        <td id=\"T_d0d4314c_096f_11ea_b999_a45e60c5edc3row1_col0\" class=\"data row1 col0\" >2.88</td> \n",
       "        <td id=\"T_d0d4314c_096f_11ea_b999_a45e60c5edc3row1_col1\" class=\"data row1 col1\" >Sherlock Holmes (1916 film)</td> \n",
       "        <td id=\"T_d0d4314c_096f_11ea_b999_a45e60c5edc3row1_col2\" class=\"data row1 col2\" > Sherlock Holmes is a 1916 American silent film starring William Gillette as Arthur Conan Doyle's Sherlock Holmes. The film, which was directed by Arthur Berthelet, was produced by Essanay Studios in  ...</td> \n",
       "        <td id=\"T_d0d4314c_096f_11ea_b999_a45e60c5edc3row1_col3\" class=\"data row1 col3\" ><a target=_blank href='https://en.wikipedia.org/wiki/Sherlock_Holmes_(1916_film)'>https://en.wikipedia.org/wiki/Sherlock_Holmes_(1916_film)</a></td> \n",
       "    </tr>    <tr> \n",
       "        <th id=\"T_d0d4314c_096f_11ea_b999_a45e60c5edc3level0_row2\" class=\"row_heading level0 row2\" >2</th> \n",
       "        <td id=\"T_d0d4314c_096f_11ea_b999_a45e60c5edc3row2_col0\" class=\"data row2 col0\" >2.81</td> \n",
       "        <td id=\"T_d0d4314c_096f_11ea_b999_a45e60c5edc3row2_col1\" class=\"data row2 col1\" >Sherlock Holmes in Washington</td> \n",
       "        <td id=\"T_d0d4314c_096f_11ea_b999_a45e60c5edc3row2_col2\" class=\"data row2 col2\" >Sherlock Holmes in Washington (1943) is the fifth film in the Basil Rathbone/Nigel Bruce series of Sherlock Holmes movies. The plot is an original story not based on any of Sir Arthur Conan Doyle's Ho ...</td> \n",
       "        <td id=\"T_d0d4314c_096f_11ea_b999_a45e60c5edc3row2_col3\" class=\"data row2 col3\" ><a target=_blank href='https://en.wikipedia.org/wiki/Sherlock_Holmes_in_Washington'>https://en.wikipedia.org/wiki/Sherlock_Holmes_in_Washington</a></td> \n",
       "    </tr></tbody> \n",
       "</table> "
      ],
      "text/plain": [
       "<pandas.io.formats.style.Styler at 0x1a42066e10>"
      ]
     },
     "execution_count": 111,
     "metadata": {},
     "output_type": "execute_result"
    }
   ],
   "source": [
    "search_3('Sherlokc Holmes', 3)"
   ]
  },
  {
   "cell_type": "code",
   "execution_count": null,
   "metadata": {},
   "outputs": [],
   "source": []
  },
  {
   "cell_type": "code",
   "execution_count": null,
   "metadata": {},
   "outputs": [],
   "source": []
  },
  {
   "cell_type": "code",
   "execution_count": null,
   "metadata": {},
   "outputs": [],
   "source": []
  }
 ],
 "metadata": {
  "kernelspec": {
   "display_name": "Python 3",
   "language": "python",
   "name": "python3"
  },
  "language_info": {
   "codemirror_mode": {
    "name": "ipython",
    "version": 3
   },
   "file_extension": ".py",
   "mimetype": "text/x-python",
   "name": "python",
   "nbconvert_exporter": "python",
   "pygments_lexer": "ipython3",
   "version": "3.7.1"
  }
 },
 "nbformat": 4,
 "nbformat_minor": 2
}
